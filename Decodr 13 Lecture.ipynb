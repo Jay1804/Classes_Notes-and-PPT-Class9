{
 "cells": [
  {
   "cell_type": "markdown",
   "metadata": {},
   "source": [
    "# Bar chart\n"
   ]
  },
  {
   "cell_type": "code",
   "execution_count": 45,
   "metadata": {},
   "outputs": [],
   "source": [
    "import pandas as pd"
   ]
  },
  {
   "cell_type": "code",
   "execution_count": 49,
   "metadata": {},
   "outputs": [
    {
     "data": {
      "text/html": [
       "<div>\n",
       "<style scoped>\n",
       "    .dataframe tbody tr th:only-of-type {\n",
       "        vertical-align: middle;\n",
       "    }\n",
       "\n",
       "    .dataframe tbody tr th {\n",
       "        vertical-align: top;\n",
       "    }\n",
       "\n",
       "    .dataframe thead th {\n",
       "        text-align: right;\n",
       "    }\n",
       "</style>\n",
       "<table border=\"1\" class=\"dataframe\">\n",
       "  <thead>\n",
       "    <tr style=\"text-align: right;\">\n",
       "      <th></th>\n",
       "      <th>Bronze</th>\n",
       "      <th>Gold</th>\n",
       "      <th>Silver</th>\n",
       "    </tr>\n",
       "  </thead>\n",
       "  <tbody>\n",
       "    <tr>\n",
       "      <th>Australia</th>\n",
       "      <td>25</td>\n",
       "      <td>23</td>\n",
       "      <td>34</td>\n",
       "    </tr>\n",
       "    <tr>\n",
       "      <th>Canada</th>\n",
       "      <td>61</td>\n",
       "      <td>4</td>\n",
       "      <td>4</td>\n",
       "    </tr>\n",
       "    <tr>\n",
       "      <th>China</th>\n",
       "      <td>35</td>\n",
       "      <td>44</td>\n",
       "      <td>30</td>\n",
       "    </tr>\n",
       "    <tr>\n",
       "      <th>France</th>\n",
       "      <td>21</td>\n",
       "      <td>20</td>\n",
       "      <td>55</td>\n",
       "    </tr>\n",
       "    <tr>\n",
       "      <th>Germany</th>\n",
       "      <td>67</td>\n",
       "      <td>47</td>\n",
       "      <td>43</td>\n",
       "    </tr>\n",
       "    <tr>\n",
       "      <th>Great Britain</th>\n",
       "      <td>26</td>\n",
       "      <td>64</td>\n",
       "      <td>55</td>\n",
       "    </tr>\n",
       "    <tr>\n",
       "      <th>Italy</th>\n",
       "      <td>24</td>\n",
       "      <td>8</td>\n",
       "      <td>38</td>\n",
       "    </tr>\n",
       "    <tr>\n",
       "      <th>Japan</th>\n",
       "      <td>34</td>\n",
       "      <td>17</td>\n",
       "      <td>13</td>\n",
       "    </tr>\n",
       "    <tr>\n",
       "      <th>Russia</th>\n",
       "      <td>35</td>\n",
       "      <td>50</td>\n",
       "      <td>28</td>\n",
       "    </tr>\n",
       "    <tr>\n",
       "      <th>United States</th>\n",
       "      <td>67</td>\n",
       "      <td>137</td>\n",
       "      <td>52</td>\n",
       "    </tr>\n",
       "  </tbody>\n",
       "</table>\n",
       "</div>"
      ],
      "text/plain": [
       "               Bronze  Gold  Silver\n",
       "Australia          25    23      34\n",
       "Canada             61     4       4\n",
       "China              35    44      30\n",
       "France             21    20      55\n",
       "Germany            67    47      43\n",
       "Great Britain      26    64      55\n",
       "Italy              24     8      38\n",
       "Japan              34    17      13\n",
       "Russia             35    50      28\n",
       "United States      67   137      52"
      ]
     },
     "execution_count": 49,
     "metadata": {},
     "output_type": "execute_result"
    }
   ],
   "source": [
    "medals=pd.read_csv(\"medals_plots.csv\",index_col=0)\n",
    "medals"
   ]
  },
  {
   "cell_type": "code",
   "execution_count": 47,
   "metadata": {},
   "outputs": [],
   "source": [
    "import matplotlib.pyplot as plt"
   ]
  },
  {
   "cell_type": "code",
   "execution_count": 48,
   "metadata": {},
   "outputs": [
    {
     "data": {
      "image/png": "[encoded data removed]",
      "text/plain": [
       "<Figure size 432x288 with 1 Axes>"
      ]
     },
     "metadata": {
      "needs_background": "light"
     },
     "output_type": "display_data"
    }
   ],
   "source": [
    "fig,ax=plt.subplots()\n",
    "ax.bar(medals.index,medals[\"Gold\"])\n",
    "ax.set_xticklabels(medals.index,rotation=90)\n",
    "ax.set_ylabel(\"Number of medals\")\n",
    "plt.show()"
   ]
  },
  {
   "cell_type": "markdown",
   "metadata": {},
   "source": [
    "# Stacked bar chart\n"
   ]
  },
  {
   "cell_type": "code",
   "execution_count": 54,
   "metadata": {},
   "outputs": [
    {
     "data": {
      "image/png": "[encoded data removed]",
      "text/plain": [
       "<Figure size 432x288 with 1 Axes>"
      ]
     },
     "metadata": {
      "needs_background": "light"
     },
     "output_type": "display_data"
    }
   ],
   "source": [
    "fig,ax=plt.subplots()\n",
    "ax.bar(medals.index,medals[\"Gold\"],label=\"Gold\")\n",
    "ax.bar(medals.index,medals[\"Silver\"],bottom=medals[\"Gold\"],label=\"Silver\")\n",
    "ax.bar(medals.index,medals[\"Bronze\"],\n",
    "       bottom=medals[\"Gold\"] + medals[\"Silver\"],label=\"Bronze\")\n",
    "ax.legend()\n",
    "plt.show()"
   ]
  },
  {
   "cell_type": "markdown",
   "metadata": {},
   "source": [
    "# Creating histograms\n"
   ]
  },
  {
   "cell_type": "code",
   "execution_count": 12,
   "metadata": {},
   "outputs": [
    {
     "data": {
      "text/html": [
       "<div>\n",
       "<style scoped>\n",
       "    .dataframe tbody tr th:only-of-type {\n",
       "        vertical-align: middle;\n",
       "    }\n",
       "\n",
       "    .dataframe tbody tr th {\n",
       "        vertical-align: top;\n",
       "    }\n",
       "\n",
       "    .dataframe thead th {\n",
       "        text-align: right;\n",
       "    }\n",
       "</style>\n",
       "<table border=\"1\" class=\"dataframe\">\n",
       "  <thead>\n",
       "    <tr style=\"text-align: right;\">\n",
       "      <th></th>\n",
       "      <th>Age</th>\n",
       "      <th>City</th>\n",
       "      <th>Event</th>\n",
       "      <th>Games</th>\n",
       "      <th>Height</th>\n",
       "      <th>ID</th>\n",
       "      <th>Medal</th>\n",
       "      <th>NOC</th>\n",
       "      <th>Name</th>\n",
       "      <th>Season</th>\n",
       "      <th>Sex</th>\n",
       "      <th>Sport</th>\n",
       "      <th>Team</th>\n",
       "      <th>Unnamed: 0.1</th>\n",
       "      <th>Weight</th>\n",
       "      <th>Year</th>\n",
       "    </tr>\n",
       "  </thead>\n",
       "  <tbody>\n",
       "    <tr>\n",
       "      <th>8</th>\n",
       "      <td>21.0</td>\n",
       "      <td>Rio de Janeiro</td>\n",
       "      <td>Rowing Men's Coxless Pairs</td>\n",
       "      <td>2016 Summer</td>\n",
       "      <td>198.0</td>\n",
       "      <td>62</td>\n",
       "      <td>Bronze</td>\n",
       "      <td>ITA</td>\n",
       "      <td>Giovanni Abagnale</td>\n",
       "      <td>Summer</td>\n",
       "      <td>M</td>\n",
       "      <td>Rowing</td>\n",
       "      <td>Italy</td>\n",
       "      <td>158</td>\n",
       "      <td>90.0</td>\n",
       "      <td>2016</td>\n",
       "    </tr>\n",
       "    <tr>\n",
       "      <th>735</th>\n",
       "      <td>27.0</td>\n",
       "      <td>Rio de Janeiro</td>\n",
       "      <td>Rowing Men's Lightweight Double Sculls</td>\n",
       "      <td>2016 Summer</td>\n",
       "      <td>178.0</td>\n",
       "      <td>6346</td>\n",
       "      <td>Gold</td>\n",
       "      <td>FRA</td>\n",
       "      <td>Jrmie Azou</td>\n",
       "      <td>Summer</td>\n",
       "      <td>M</td>\n",
       "      <td>Rowing</td>\n",
       "      <td>France</td>\n",
       "      <td>11648</td>\n",
       "      <td>71.0</td>\n",
       "      <td>2016</td>\n",
       "    </tr>\n",
       "    <tr>\n",
       "      <th>885</th>\n",
       "      <td>28.0</td>\n",
       "      <td>Rio de Janeiro</td>\n",
       "      <td>Rowing Men's Lightweight Coxless Fours</td>\n",
       "      <td>2016 Summer</td>\n",
       "      <td>183.0</td>\n",
       "      <td>8025</td>\n",
       "      <td>Bronze</td>\n",
       "      <td>FRA</td>\n",
       "      <td>Thomas Gabriel Jrmie Baroukh</td>\n",
       "      <td>Summer</td>\n",
       "      <td>M</td>\n",
       "      <td>Rowing</td>\n",
       "      <td>France</td>\n",
       "      <td>14871</td>\n",
       "      <td>70.0</td>\n",
       "      <td>2016</td>\n",
       "    </tr>\n",
       "    <tr>\n",
       "      <th>912</th>\n",
       "      <td>27.0</td>\n",
       "      <td>Rio de Janeiro</td>\n",
       "      <td>Rowing Men's Lightweight Coxless Fours</td>\n",
       "      <td>2016 Summer</td>\n",
       "      <td>188.0</td>\n",
       "      <td>8214</td>\n",
       "      <td>Silver</td>\n",
       "      <td>DEN</td>\n",
       "      <td>Jacob Jepsen Barse</td>\n",
       "      <td>Summer</td>\n",
       "      <td>M</td>\n",
       "      <td>Rowing</td>\n",
       "      <td>Denmark</td>\n",
       "      <td>15215</td>\n",
       "      <td>73.0</td>\n",
       "      <td>2016</td>\n",
       "    </tr>\n",
       "    <tr>\n",
       "      <th>1059</th>\n",
       "      <td>26.0</td>\n",
       "      <td>Rio de Janeiro</td>\n",
       "      <td>Rowing Men's Quadruple Sculls</td>\n",
       "      <td>2016 Summer</td>\n",
       "      <td>187.0</td>\n",
       "      <td>9764</td>\n",
       "      <td>Silver</td>\n",
       "      <td>AUS</td>\n",
       "      <td>Alexander Belonogoff</td>\n",
       "      <td>Summer</td>\n",
       "      <td>M</td>\n",
       "      <td>Rowing</td>\n",
       "      <td>Australia</td>\n",
       "      <td>18441</td>\n",
       "      <td>90.0</td>\n",
       "      <td>2016</td>\n",
       "    </tr>\n",
       "  </tbody>\n",
       "</table>\n",
       "</div>"
      ],
      "text/plain": [
       "       Age            City                                   Event  \\\n",
       "8     21.0  Rio de Janeiro              Rowing Men's Coxless Pairs   \n",
       "735   27.0  Rio de Janeiro  Rowing Men's Lightweight Double Sculls   \n",
       "885   28.0  Rio de Janeiro  Rowing Men's Lightweight Coxless Fours   \n",
       "912   27.0  Rio de Janeiro  Rowing Men's Lightweight Coxless Fours   \n",
       "1059  26.0  Rio de Janeiro           Rowing Men's Quadruple Sculls   \n",
       "\n",
       "            Games  Height    ID   Medal  NOC                          Name  \\\n",
       "8     2016 Summer   198.0    62  Bronze  ITA             Giovanni Abagnale   \n",
       "735   2016 Summer   178.0  6346    Gold  FRA                    Jrmie Azou   \n",
       "885   2016 Summer   183.0  8025  Bronze  FRA  Thomas Gabriel Jrmie Baroukh   \n",
       "912   2016 Summer   188.0  8214  Silver  DEN            Jacob Jepsen Barse   \n",
       "1059  2016 Summer   187.0  9764  Silver  AUS          Alexander Belonogoff   \n",
       "\n",
       "      Season Sex   Sport       Team  Unnamed: 0.1  Weight  Year  \n",
       "8     Summer   M  Rowing      Italy           158    90.0  2016  \n",
       "735   Summer   M  Rowing     France         11648    71.0  2016  \n",
       "885   Summer   M  Rowing     France         14871    70.0  2016  \n",
       "912   Summer   M  Rowing    Denmark         15215    73.0  2016  \n",
       "1059  Summer   M  Rowing  Australia         18441    90.0  2016  "
      ]
     },
     "execution_count": 12,
     "metadata": {},
     "output_type": "execute_result"
    }
   ],
   "source": [
    "mens_rowing=pd.read_csv(\"mens_rowing.csv\",index_col=0)\n",
    "mens_rowing.head()"
   ]
  },
  {
   "cell_type": "code",
   "execution_count": 13,
   "metadata": {},
   "outputs": [
    {
     "data": {
      "text/html": [
       "<div>\n",
       "<style scoped>\n",
       "    .dataframe tbody tr th:only-of-type {\n",
       "        vertical-align: middle;\n",
       "    }\n",
       "\n",
       "    .dataframe tbody tr th {\n",
       "        vertical-align: top;\n",
       "    }\n",
       "\n",
       "    .dataframe thead th {\n",
       "        text-align: right;\n",
       "    }\n",
       "</style>\n",
       "<table border=\"1\" class=\"dataframe\">\n",
       "  <thead>\n",
       "    <tr style=\"text-align: right;\">\n",
       "      <th></th>\n",
       "      <th>Age</th>\n",
       "      <th>City</th>\n",
       "      <th>Event</th>\n",
       "      <th>Games</th>\n",
       "      <th>Height</th>\n",
       "      <th>ID</th>\n",
       "      <th>Medal</th>\n",
       "      <th>NOC</th>\n",
       "      <th>Name</th>\n",
       "      <th>Season</th>\n",
       "      <th>Sex</th>\n",
       "      <th>Sport</th>\n",
       "      <th>Team</th>\n",
       "      <th>Unnamed: 0.1</th>\n",
       "      <th>Weight</th>\n",
       "      <th>Year</th>\n",
       "    </tr>\n",
       "  </thead>\n",
       "  <tbody>\n",
       "    <tr>\n",
       "      <th>58</th>\n",
       "      <td>24.0</td>\n",
       "      <td>Rio de Janeiro</td>\n",
       "      <td>Gymnastics Men's Team All-Around</td>\n",
       "      <td>2016 Summer</td>\n",
       "      <td>161.0</td>\n",
       "      <td>455</td>\n",
       "      <td>Silver</td>\n",
       "      <td>RUS</td>\n",
       "      <td>Denis Mikhaylovich Ablyazin</td>\n",
       "      <td>Summer</td>\n",
       "      <td>M</td>\n",
       "      <td>Gymnastics</td>\n",
       "      <td>Russia</td>\n",
       "      <td>794</td>\n",
       "      <td>62.0</td>\n",
       "      <td>2016</td>\n",
       "    </tr>\n",
       "    <tr>\n",
       "      <th>60</th>\n",
       "      <td>24.0</td>\n",
       "      <td>Rio de Janeiro</td>\n",
       "      <td>Gymnastics Men's Horse Vault</td>\n",
       "      <td>2016 Summer</td>\n",
       "      <td>161.0</td>\n",
       "      <td>455</td>\n",
       "      <td>Silver</td>\n",
       "      <td>RUS</td>\n",
       "      <td>Denis Mikhaylovich Ablyazin</td>\n",
       "      <td>Summer</td>\n",
       "      <td>M</td>\n",
       "      <td>Gymnastics</td>\n",
       "      <td>Russia</td>\n",
       "      <td>796</td>\n",
       "      <td>62.0</td>\n",
       "      <td>2016</td>\n",
       "    </tr>\n",
       "    <tr>\n",
       "      <th>61</th>\n",
       "      <td>24.0</td>\n",
       "      <td>Rio de Janeiro</td>\n",
       "      <td>Gymnastics Men's Rings</td>\n",
       "      <td>2016 Summer</td>\n",
       "      <td>161.0</td>\n",
       "      <td>455</td>\n",
       "      <td>Bronze</td>\n",
       "      <td>RUS</td>\n",
       "      <td>Denis Mikhaylovich Ablyazin</td>\n",
       "      <td>Summer</td>\n",
       "      <td>M</td>\n",
       "      <td>Gymnastics</td>\n",
       "      <td>Russia</td>\n",
       "      <td>797</td>\n",
       "      <td>62.0</td>\n",
       "      <td>2016</td>\n",
       "    </tr>\n",
       "    <tr>\n",
       "      <th>1066</th>\n",
       "      <td>24.0</td>\n",
       "      <td>Rio de Janeiro</td>\n",
       "      <td>Gymnastics Men's Team All-Around</td>\n",
       "      <td>2016 Summer</td>\n",
       "      <td>165.0</td>\n",
       "      <td>9829</td>\n",
       "      <td>Silver</td>\n",
       "      <td>RUS</td>\n",
       "      <td>David Sagitovich Belyavsky</td>\n",
       "      <td>Summer</td>\n",
       "      <td>M</td>\n",
       "      <td>Gymnastics</td>\n",
       "      <td>Russia</td>\n",
       "      <td>18577</td>\n",
       "      <td>55.0</td>\n",
       "      <td>2016</td>\n",
       "    </tr>\n",
       "    <tr>\n",
       "      <th>1068</th>\n",
       "      <td>24.0</td>\n",
       "      <td>Rio de Janeiro</td>\n",
       "      <td>Gymnastics Men's Parallel Bars</td>\n",
       "      <td>2016 Summer</td>\n",
       "      <td>165.0</td>\n",
       "      <td>9829</td>\n",
       "      <td>Bronze</td>\n",
       "      <td>RUS</td>\n",
       "      <td>David Sagitovich Belyavsky</td>\n",
       "      <td>Summer</td>\n",
       "      <td>M</td>\n",
       "      <td>Gymnastics</td>\n",
       "      <td>Russia</td>\n",
       "      <td>18579</td>\n",
       "      <td>55.0</td>\n",
       "      <td>2016</td>\n",
       "    </tr>\n",
       "  </tbody>\n",
       "</table>\n",
       "</div>"
      ],
      "text/plain": [
       "       Age            City                             Event        Games  \\\n",
       "58    24.0  Rio de Janeiro  Gymnastics Men's Team All-Around  2016 Summer   \n",
       "60    24.0  Rio de Janeiro      Gymnastics Men's Horse Vault  2016 Summer   \n",
       "61    24.0  Rio de Janeiro            Gymnastics Men's Rings  2016 Summer   \n",
       "1066  24.0  Rio de Janeiro  Gymnastics Men's Team All-Around  2016 Summer   \n",
       "1068  24.0  Rio de Janeiro    Gymnastics Men's Parallel Bars  2016 Summer   \n",
       "\n",
       "      Height    ID   Medal  NOC                         Name  Season Sex  \\\n",
       "58     161.0   455  Silver  RUS  Denis Mikhaylovich Ablyazin  Summer   M   \n",
       "60     161.0   455  Silver  RUS  Denis Mikhaylovich Ablyazin  Summer   M   \n",
       "61     161.0   455  Bronze  RUS  Denis Mikhaylovich Ablyazin  Summer   M   \n",
       "1066   165.0  9829  Silver  RUS   David Sagitovich Belyavsky  Summer   M   \n",
       "1068   165.0  9829  Bronze  RUS   David Sagitovich Belyavsky  Summer   M   \n",
       "\n",
       "           Sport    Team  Unnamed: 0.1  Weight  Year  \n",
       "58    Gymnastics  Russia           794    62.0  2016  \n",
       "60    Gymnastics  Russia           796    62.0  2016  \n",
       "61    Gymnastics  Russia           797    62.0  2016  \n",
       "1066  Gymnastics  Russia         18577    55.0  2016  \n",
       "1068  Gymnastics  Russia         18579    55.0  2016  "
      ]
     },
     "execution_count": 13,
     "metadata": {},
     "output_type": "execute_result"
    }
   ],
   "source": [
    "mens_gymnastics=pd.read_csv(\"mens_gymnastics.csv\",index_col=0)\n",
    "mens_gymnastics.head()\n"
   ]
  },
  {
   "cell_type": "code",
   "execution_count": 21,
   "metadata": {},
   "outputs": [
    {
     "data": {
      "image/png": "[encoded data removed]",
      "text/plain": [
       "<Figure size 432x288 with 1 Axes>"
      ]
     },
     "metadata": {
      "needs_background": "light"
     },
     "output_type": "display_data"
    }
   ],
   "source": [
    "fig,ax=plt.subplots()\n",
    "ax.hist(mens_rowing[\"Weight\"])\n",
    "ax.hist(mens_gymnastics[\"Weight\"])\n",
    "ax.set_xlabel(\"Weight(kg)\")\n",
    "ax.set_ylabel(\"# of observations\")\n",
    "plt.show()"
   ]
  },
  {
   "cell_type": "markdown",
   "metadata": {},
   "source": [
    "# \"Step\" histogram\n"
   ]
  },
  {
   "cell_type": "code",
   "execution_count": null,
   "metadata": {},
   "outputs": [],
   "source": []
  },
  {
   "cell_type": "code",
   "execution_count": 25,
   "metadata": {},
   "outputs": [
    {
     "data": {
      "image/png": "[encoded data removed]",
      "text/plain": [
       "<Figure size 432x288 with 1 Axes>"
      ]
     },
     "metadata": {
      "needs_background": "light"
     },
     "output_type": "display_data"
    }
   ],
   "source": [
    "fig,ax=plt.subplots()\n",
    "ax.hist(mens_rowing[\"Weight\"],histtype=\"step\",label=\"Rowing\",bins=5)\n",
    "ax.hist(mens_gymnastics[\"Weight\"],histtype=\"step\",label=\"Gymnastics\",bins=5)\n",
    "ax.set_xlabel(\"Weight(kg)\")\n",
    "ax.set_ylabel(\"# of observations\")\n",
    "ax.legend()\n",
    "plt.show()"
   ]
  },
  {
   "cell_type": "markdown",
   "metadata": {},
   "source": [
    "# Adding error-bars to a bar chart\n"
   ]
  },
  {
   "cell_type": "code",
   "execution_count": 31,
   "metadata": {},
   "outputs": [
    {
     "data": {
      "image/png": "[encoded data removed]",
      "text/plain": [
       "<Figure size 432x288 with 1 Axes>"
      ]
     },
     "metadata": {
      "needs_background": "light"
     },
     "output_type": "display_data"
    }
   ],
   "source": [
    "fig,ax=plt.subplots()\n",
    "ax.bar(\"Rowing\",mens_rowing[\"Height\"].mean(),yerr=mens_rowing[\"Height\"].std())\n",
    "ax.bar(\"Gymnastics\",mens_gymnastics[\"Height\"].mean(),yerr=mens_gymnastics[\"Height\"].std())\n",
    "plt.show()"
   ]
  },
  {
   "cell_type": "markdown",
   "metadata": {},
   "source": [
    "# Adding error-bars to a plot\n"
   ]
  },
  {
   "cell_type": "code",
   "execution_count": 32,
   "metadata": {},
   "outputs": [
    {
     "data": {
      "text/html": [
       "<div>\n",
       "<style scoped>\n",
       "    .dataframe tbody tr th:only-of-type {\n",
       "        vertical-align: middle;\n",
       "    }\n",
       "\n",
       "    .dataframe tbody tr th {\n",
       "        vertical-align: top;\n",
       "    }\n",
       "\n",
       "    .dataframe thead th {\n",
       "        text-align: right;\n",
       "    }\n",
       "</style>\n",
       "<table border=\"1\" class=\"dataframe\">\n",
       "  <thead>\n",
       "    <tr style=\"text-align: right;\">\n",
       "      <th></th>\n",
       "      <th>MLY-CLDD-BASE45</th>\n",
       "      <th>MLY-CLDD-BASE50</th>\n",
       "      <th>MLY-CLDD-BASE55</th>\n",
       "      <th>MLY-CLDD-BASE57</th>\n",
       "      <th>MLY-CLDD-BASE60</th>\n",
       "      <th>MLY-CLDD-BASE70</th>\n",
       "      <th>MLY-CLDD-BASE72</th>\n",
       "      <th>MLY-CLDD-NORMAL</th>\n",
       "      <th>MLY-DUTR-NORMAL</th>\n",
       "      <th>MLY-DUTR-STDDEV</th>\n",
       "      <th>...</th>\n",
       "      <th>MLY-TMIN-PRBOCC-LSTH016</th>\n",
       "      <th>MLY-TMIN-PRBOCC-LSTH020</th>\n",
       "      <th>MLY-TMIN-PRBOCC-LSTH024</th>\n",
       "      <th>MLY-TMIN-PRBOCC-LSTH028</th>\n",
       "      <th>MLY-TMIN-PRBOCC-LSTH032</th>\n",
       "      <th>MLY-TMIN-PRBOCC-LSTH036</th>\n",
       "      <th>MLY-TMIN-STDDEV</th>\n",
       "      <th>MONTH</th>\n",
       "      <th>NAME</th>\n",
       "      <th>STATION</th>\n",
       "    </tr>\n",
       "  </thead>\n",
       "  <tbody>\n",
       "    <tr>\n",
       "      <th>1</th>\n",
       "      <td>27.0</td>\n",
       "      <td>3.0</td>\n",
       "      <td>-7777.0</td>\n",
       "      <td>-7777.0</td>\n",
       "      <td>0.0</td>\n",
       "      <td>0.0</td>\n",
       "      <td>0.0</td>\n",
       "      <td>0.0</td>\n",
       "      <td>10.2</td>\n",
       "      <td>1.4</td>\n",
       "      <td>...</td>\n",
       "      <td>64.0</td>\n",
       "      <td>129.0</td>\n",
       "      <td>317.0</td>\n",
       "      <td>709.0</td>\n",
       "      <td>959.0</td>\n",
       "      <td>1000.0</td>\n",
       "      <td>2.3</td>\n",
       "      <td>Jan</td>\n",
       "      <td>SEATTLE SAND PT WSFO, WA US</td>\n",
       "      <td>USW00094290</td>\n",
       "    </tr>\n",
       "    <tr>\n",
       "      <th>2</th>\n",
       "      <td>31.0</td>\n",
       "      <td>3.0</td>\n",
       "      <td>-7777.0</td>\n",
       "      <td>-7777.0</td>\n",
       "      <td>0.0</td>\n",
       "      <td>0.0</td>\n",
       "      <td>0.0</td>\n",
       "      <td>0.0</td>\n",
       "      <td>13.1</td>\n",
       "      <td>1.8</td>\n",
       "      <td>...</td>\n",
       "      <td>15.0</td>\n",
       "      <td>76.0</td>\n",
       "      <td>273.0</td>\n",
       "      <td>616.0</td>\n",
       "      <td>917.0</td>\n",
       "      <td>1000.0</td>\n",
       "      <td>2.6</td>\n",
       "      <td>Feb</td>\n",
       "      <td>SEATTLE SAND PT WSFO, WA US</td>\n",
       "      <td>USW00094290</td>\n",
       "    </tr>\n",
       "    <tr>\n",
       "      <th>3</th>\n",
       "      <td>81.0</td>\n",
       "      <td>16.0</td>\n",
       "      <td>2.0</td>\n",
       "      <td>-7777.0</td>\n",
       "      <td>-7777.0</td>\n",
       "      <td>0.0</td>\n",
       "      <td>0.0</td>\n",
       "      <td>0.0</td>\n",
       "      <td>14.5</td>\n",
       "      <td>1.2</td>\n",
       "      <td>...</td>\n",
       "      <td>0.0</td>\n",
       "      <td>20.0</td>\n",
       "      <td>41.0</td>\n",
       "      <td>152.0</td>\n",
       "      <td>670.0</td>\n",
       "      <td>986.0</td>\n",
       "      <td>1.8</td>\n",
       "      <td>Mar</td>\n",
       "      <td>SEATTLE SAND PT WSFO, WA US</td>\n",
       "      <td>USW00094290</td>\n",
       "    </tr>\n",
       "    <tr>\n",
       "      <th>4</th>\n",
       "      <td>169.0</td>\n",
       "      <td>58.0</td>\n",
       "      <td>12.0</td>\n",
       "      <td>6.0</td>\n",
       "      <td>1.0</td>\n",
       "      <td>0.0</td>\n",
       "      <td>0.0</td>\n",
       "      <td>-7777.0</td>\n",
       "      <td>16.0</td>\n",
       "      <td>1.7</td>\n",
       "      <td>...</td>\n",
       "      <td>0.0</td>\n",
       "      <td>0.0</td>\n",
       "      <td>0.0</td>\n",
       "      <td>0.0</td>\n",
       "      <td>114.0</td>\n",
       "      <td>711.0</td>\n",
       "      <td>1.5</td>\n",
       "      <td>Apr</td>\n",
       "      <td>SEATTLE SAND PT WSFO, WA US</td>\n",
       "      <td>USW00094290</td>\n",
       "    </tr>\n",
       "    <tr>\n",
       "      <th>5</th>\n",
       "      <td>343.0</td>\n",
       "      <td>193.0</td>\n",
       "      <td>78.0</td>\n",
       "      <td>49.0</td>\n",
       "      <td>21.0</td>\n",
       "      <td>-7777.0</td>\n",
       "      <td>-7777.0</td>\n",
       "      <td>3.0</td>\n",
       "      <td>16.5</td>\n",
       "      <td>1.8</td>\n",
       "      <td>...</td>\n",
       "      <td>0.0</td>\n",
       "      <td>0.0</td>\n",
       "      <td>0.0</td>\n",
       "      <td>0.0</td>\n",
       "      <td>0.0</td>\n",
       "      <td>58.0</td>\n",
       "      <td>1.9</td>\n",
       "      <td>May</td>\n",
       "      <td>SEATTLE SAND PT WSFO, WA US</td>\n",
       "      <td>USW00094290</td>\n",
       "    </tr>\n",
       "  </tbody>\n",
       "</table>\n",
       "<p>5 rows × 80 columns</p>\n",
       "</div>"
      ],
      "text/plain": [
       "   MLY-CLDD-BASE45  MLY-CLDD-BASE50  MLY-CLDD-BASE55  MLY-CLDD-BASE57  \\\n",
       "1             27.0              3.0          -7777.0          -7777.0   \n",
       "2             31.0              3.0          -7777.0          -7777.0   \n",
       "3             81.0             16.0              2.0          -7777.0   \n",
       "4            169.0             58.0             12.0              6.0   \n",
       "5            343.0            193.0             78.0             49.0   \n",
       "\n",
       "   MLY-CLDD-BASE60  MLY-CLDD-BASE70  MLY-CLDD-BASE72  MLY-CLDD-NORMAL  \\\n",
       "1              0.0              0.0              0.0              0.0   \n",
       "2              0.0              0.0              0.0              0.0   \n",
       "3          -7777.0              0.0              0.0              0.0   \n",
       "4              1.0              0.0              0.0          -7777.0   \n",
       "5             21.0          -7777.0          -7777.0              3.0   \n",
       "\n",
       "   MLY-DUTR-NORMAL  MLY-DUTR-STDDEV     ...       MLY-TMIN-PRBOCC-LSTH016  \\\n",
       "1             10.2              1.4     ...                          64.0   \n",
       "2             13.1              1.8     ...                          15.0   \n",
       "3             14.5              1.2     ...                           0.0   \n",
       "4             16.0              1.7     ...                           0.0   \n",
       "5             16.5              1.8     ...                           0.0   \n",
       "\n",
       "   MLY-TMIN-PRBOCC-LSTH020  MLY-TMIN-PRBOCC-LSTH024  MLY-TMIN-PRBOCC-LSTH028  \\\n",
       "1                    129.0                    317.0                    709.0   \n",
       "2                     76.0                    273.0                    616.0   \n",
       "3                     20.0                     41.0                    152.0   \n",
       "4                      0.0                      0.0                      0.0   \n",
       "5                      0.0                      0.0                      0.0   \n",
       "\n",
       "   MLY-TMIN-PRBOCC-LSTH032  MLY-TMIN-PRBOCC-LSTH036  MLY-TMIN-STDDEV  MONTH  \\\n",
       "1                    959.0                   1000.0              2.3    Jan   \n",
       "2                    917.0                   1000.0              2.6    Feb   \n",
       "3                    670.0                    986.0              1.8    Mar   \n",
       "4                    114.0                    711.0              1.5    Apr   \n",
       "5                      0.0                     58.0              1.9    May   \n",
       "\n",
       "                          NAME      STATION  \n",
       "1  SEATTLE SAND PT WSFO, WA US  USW00094290  \n",
       "2  SEATTLE SAND PT WSFO, WA US  USW00094290  \n",
       "3  SEATTLE SAND PT WSFO, WA US  USW00094290  \n",
       "4  SEATTLE SAND PT WSFO, WA US  USW00094290  \n",
       "5  SEATTLE SAND PT WSFO, WA US  USW00094290  \n",
       "\n",
       "[5 rows x 80 columns]"
      ]
     },
     "execution_count": 32,
     "metadata": {},
     "output_type": "execute_result"
    }
   ],
   "source": [
    "seattle_weather=pd.read_csv(\"seattle_weather_plots.csv\",index_col=0)\n",
    "seattle_weather.head()"
   ]
  },
  {
   "cell_type": "code",
   "execution_count": 36,
   "metadata": {},
   "outputs": [
    {
     "data": {
      "text/plain": [
       "(12, 80)"
      ]
     },
     "execution_count": 36,
     "metadata": {},
     "output_type": "execute_result"
    }
   ],
   "source": [
    "seattle_weather.shape"
   ]
  },
  {
   "cell_type": "code",
   "execution_count": 34,
   "metadata": {},
   "outputs": [
    {
     "data": {
      "text/plain": [
       "Index(['MLY-CLDD-BASE45', 'MLY-CLDD-BASE50', 'MLY-CLDD-BASE55',\n",
       "       'MLY-CLDD-BASE57', 'MLY-CLDD-BASE60', 'MLY-CLDD-BASE70',\n",
       "       'MLY-CLDD-BASE72', 'MLY-CLDD-NORMAL', 'MLY-DUTR-NORMAL',\n",
       "       'MLY-DUTR-STDDEV', 'MLY-GRDD-BASE40', 'MLY-GRDD-BASE45',\n",
       "       'MLY-GRDD-BASE50', 'MLY-GRDD-BASE55', 'MLY-GRDD-BASE57',\n",
       "       'MLY-GRDD-BASE60', 'MLY-GRDD-BASE65', 'MLY-GRDD-BASE70',\n",
       "       'MLY-GRDD-BASE72', 'MLY-GRDD-TB4886', 'MLY-GRDD-TB5086',\n",
       "       'MLY-HTDD-BASE40', 'MLY-HTDD-BASE45', 'MLY-HTDD-BASE50',\n",
       "       'MLY-HTDD-BASE55', 'MLY-HTDD-BASE57', 'MLY-HTDD-BASE60',\n",
       "       'MLY-HTDD-NORMAL', 'MLY-PRCP-25PCTL', 'MLY-PRCP-50PCTL',\n",
       "       'MLY-PRCP-75PCTL', 'MLY-PRCP-AVGNDS-GE001HI', 'MLY-PRCP-AVGNDS-GE010HI',\n",
       "       'MLY-PRCP-AVGNDS-GE050HI', 'MLY-PRCP-AVGNDS-GE100HI', 'MLY-PRCP-NORMAL',\n",
       "       'MLY-SNOW-25PCTL', 'MLY-SNOW-50PCTL', 'MLY-SNOW-75PCTL',\n",
       "       'MLY-SNOW-AVGNDS-GE001TI', 'MLY-SNOW-AVGNDS-GE010TI',\n",
       "       'MLY-SNOW-AVGNDS-GE030TI', 'MLY-SNOW-AVGNDS-GE050TI',\n",
       "       'MLY-SNOW-AVGNDS-GE100TI', 'MLY-SNOW-NORMAL', 'MLY-SNWD-AVGNDS-GE001WI',\n",
       "       'MLY-SNWD-AVGNDS-GE003WI', 'MLY-SNWD-AVGNDS-GE005WI',\n",
       "       'MLY-SNWD-AVGNDS-GE010WI', 'MLY-TAVG-NORMAL', 'MLY-TAVG-STDDEV',\n",
       "       'MLY-TMAX-AVGNDS-GRTH040', 'MLY-TMAX-AVGNDS-GRTH050',\n",
       "       'MLY-TMAX-AVGNDS-GRTH060', 'MLY-TMAX-AVGNDS-GRTH070',\n",
       "       'MLY-TMAX-AVGNDS-GRTH080', 'MLY-TMAX-AVGNDS-GRTH090',\n",
       "       'MLY-TMAX-AVGNDS-GRTH100', 'MLY-TMAX-AVGNDS-LSTH032', 'MLY-TMAX-NORMAL',\n",
       "       'MLY-TMAX-STDDEV', 'MLY-TMIN-AVGNDS-LSTH000', 'MLY-TMIN-AVGNDS-LSTH010',\n",
       "       'MLY-TMIN-AVGNDS-LSTH020', 'MLY-TMIN-AVGNDS-LSTH032',\n",
       "       'MLY-TMIN-AVGNDS-LSTH040', 'MLY-TMIN-AVGNDS-LSTH050',\n",
       "       'MLY-TMIN-AVGNDS-LSTH060', 'MLY-TMIN-AVGNDS-LSTH070', 'MLY-TMIN-NORMAL',\n",
       "       'MLY-TMIN-PRBOCC-LSTH016', 'MLY-TMIN-PRBOCC-LSTH020',\n",
       "       'MLY-TMIN-PRBOCC-LSTH024', 'MLY-TMIN-PRBOCC-LSTH028',\n",
       "       'MLY-TMIN-PRBOCC-LSTH032', 'MLY-TMIN-PRBOCC-LSTH036', 'MLY-TMIN-STDDEV',\n",
       "       'MONTH', 'NAME', 'STATION'],\n",
       "      dtype='object')"
      ]
     },
     "execution_count": 34,
     "metadata": {},
     "output_type": "execute_result"
    }
   ],
   "source": [
    "seattle_weather.columns"
   ]
  },
  {
   "cell_type": "code",
   "execution_count": 33,
   "metadata": {},
   "outputs": [
    {
     "data": {
      "text/html": [
       "<div>\n",
       "<style scoped>\n",
       "    .dataframe tbody tr th:only-of-type {\n",
       "        vertical-align: middle;\n",
       "    }\n",
       "\n",
       "    .dataframe tbody tr th {\n",
       "        vertical-align: top;\n",
       "    }\n",
       "\n",
       "    .dataframe thead th {\n",
       "        text-align: right;\n",
       "    }\n",
       "</style>\n",
       "<table border=\"1\" class=\"dataframe\">\n",
       "  <thead>\n",
       "    <tr style=\"text-align: right;\">\n",
       "      <th></th>\n",
       "      <th>MLY-CLDD-BASE45</th>\n",
       "      <th>MLY-CLDD-BASE50</th>\n",
       "      <th>MLY-CLDD-BASE55</th>\n",
       "      <th>MLY-CLDD-BASE57</th>\n",
       "      <th>MLY-CLDD-BASE60</th>\n",
       "      <th>MLY-CLDD-BASE70</th>\n",
       "      <th>MLY-CLDD-BASE72</th>\n",
       "      <th>MLY-CLDD-NORMAL</th>\n",
       "      <th>MLY-DUTR-NORMAL</th>\n",
       "      <th>MLY-DUTR-STDDEV</th>\n",
       "      <th>...</th>\n",
       "      <th>MLY-TMIN-PRBOCC-LSTH016</th>\n",
       "      <th>MLY-TMIN-PRBOCC-LSTH020</th>\n",
       "      <th>MLY-TMIN-PRBOCC-LSTH024</th>\n",
       "      <th>MLY-TMIN-PRBOCC-LSTH028</th>\n",
       "      <th>MLY-TMIN-PRBOCC-LSTH032</th>\n",
       "      <th>MLY-TMIN-PRBOCC-LSTH036</th>\n",
       "      <th>MLY-TMIN-STDDEV</th>\n",
       "      <th>MONTH</th>\n",
       "      <th>NAME</th>\n",
       "      <th>STATION</th>\n",
       "    </tr>\n",
       "  </thead>\n",
       "  <tbody>\n",
       "    <tr>\n",
       "      <th>1</th>\n",
       "      <td>190</td>\n",
       "      <td>103</td>\n",
       "      <td>50</td>\n",
       "      <td>35</td>\n",
       "      <td>18</td>\n",
       "      <td>1</td>\n",
       "      <td>-7777</td>\n",
       "      <td>5</td>\n",
       "      <td>25.8</td>\n",
       "      <td>3.9</td>\n",
       "      <td>...</td>\n",
       "      <td>298</td>\n",
       "      <td>570</td>\n",
       "      <td>839</td>\n",
       "      <td>967</td>\n",
       "      <td>997</td>\n",
       "      <td>1000</td>\n",
       "      <td>2.9</td>\n",
       "      <td>Jan</td>\n",
       "      <td>AUSTIN BERGSTROM INTERNATIONAL AIRPORT, TX US</td>\n",
       "      <td>USW00013904</td>\n",
       "    </tr>\n",
       "    <tr>\n",
       "      <th>2</th>\n",
       "      <td>228</td>\n",
       "      <td>132</td>\n",
       "      <td>68</td>\n",
       "      <td>49</td>\n",
       "      <td>29</td>\n",
       "      <td>3</td>\n",
       "      <td>1</td>\n",
       "      <td>11</td>\n",
       "      <td>25.3</td>\n",
       "      <td>3.8</td>\n",
       "      <td>...</td>\n",
       "      <td>103</td>\n",
       "      <td>327</td>\n",
       "      <td>614</td>\n",
       "      <td>867</td>\n",
       "      <td>973</td>\n",
       "      <td>999</td>\n",
       "      <td>3.2</td>\n",
       "      <td>Feb</td>\n",
       "      <td>AUSTIN BERGSTROM INTERNATIONAL AIRPORT, TX US</td>\n",
       "      <td>USW00013904</td>\n",
       "    </tr>\n",
       "    <tr>\n",
       "      <th>3</th>\n",
       "      <td>446</td>\n",
       "      <td>306</td>\n",
       "      <td>185</td>\n",
       "      <td>146</td>\n",
       "      <td>98</td>\n",
       "      <td>13</td>\n",
       "      <td>6</td>\n",
       "      <td>42</td>\n",
       "      <td>25.2</td>\n",
       "      <td>2.7</td>\n",
       "      <td>...</td>\n",
       "      <td>10</td>\n",
       "      <td>73</td>\n",
       "      <td>242</td>\n",
       "      <td>494</td>\n",
       "      <td>761</td>\n",
       "      <td>928</td>\n",
       "      <td>3.6</td>\n",
       "      <td>Mar</td>\n",
       "      <td>AUSTIN BERGSTROM INTERNATIONAL AIRPORT, TX US</td>\n",
       "      <td>USW00013904</td>\n",
       "    </tr>\n",
       "    <tr>\n",
       "      <th>4</th>\n",
       "      <td>668</td>\n",
       "      <td>519</td>\n",
       "      <td>373</td>\n",
       "      <td>318</td>\n",
       "      <td>240</td>\n",
       "      <td>53</td>\n",
       "      <td>32</td>\n",
       "      <td>130</td>\n",
       "      <td>25.1</td>\n",
       "      <td>4.0</td>\n",
       "      <td>...</td>\n",
       "      <td>0</td>\n",
       "      <td>0</td>\n",
       "      <td>0</td>\n",
       "      <td>48</td>\n",
       "      <td>189</td>\n",
       "      <td>453</td>\n",
       "      <td>4.1</td>\n",
       "      <td>Apr</td>\n",
       "      <td>AUSTIN BERGSTROM INTERNATIONAL AIRPORT, TX US</td>\n",
       "      <td>USW00013904</td>\n",
       "    </tr>\n",
       "    <tr>\n",
       "      <th>5</th>\n",
       "      <td>936</td>\n",
       "      <td>781</td>\n",
       "      <td>626</td>\n",
       "      <td>564</td>\n",
       "      <td>471</td>\n",
       "      <td>181</td>\n",
       "      <td>134</td>\n",
       "      <td>319</td>\n",
       "      <td>23.0</td>\n",
       "      <td>2.3</td>\n",
       "      <td>...</td>\n",
       "      <td>0</td>\n",
       "      <td>0</td>\n",
       "      <td>0</td>\n",
       "      <td>0</td>\n",
       "      <td>0</td>\n",
       "      <td>0</td>\n",
       "      <td>2.5</td>\n",
       "      <td>May</td>\n",
       "      <td>AUSTIN BERGSTROM INTERNATIONAL AIRPORT, TX US</td>\n",
       "      <td>USW00013904</td>\n",
       "    </tr>\n",
       "  </tbody>\n",
       "</table>\n",
       "<p>5 rows × 67 columns</p>\n",
       "</div>"
      ],
      "text/plain": [
       "   MLY-CLDD-BASE45  MLY-CLDD-BASE50  MLY-CLDD-BASE55  MLY-CLDD-BASE57  \\\n",
       "1              190              103               50               35   \n",
       "2              228              132               68               49   \n",
       "3              446              306              185              146   \n",
       "4              668              519              373              318   \n",
       "5              936              781              626              564   \n",
       "\n",
       "   MLY-CLDD-BASE60  MLY-CLDD-BASE70  MLY-CLDD-BASE72  MLY-CLDD-NORMAL  \\\n",
       "1               18                1            -7777                5   \n",
       "2               29                3                1               11   \n",
       "3               98               13                6               42   \n",
       "4              240               53               32              130   \n",
       "5              471              181              134              319   \n",
       "\n",
       "   MLY-DUTR-NORMAL  MLY-DUTR-STDDEV     ...       MLY-TMIN-PRBOCC-LSTH016  \\\n",
       "1             25.8              3.9     ...                           298   \n",
       "2             25.3              3.8     ...                           103   \n",
       "3             25.2              2.7     ...                            10   \n",
       "4             25.1              4.0     ...                             0   \n",
       "5             23.0              2.3     ...                             0   \n",
       "\n",
       "   MLY-TMIN-PRBOCC-LSTH020  MLY-TMIN-PRBOCC-LSTH024  MLY-TMIN-PRBOCC-LSTH028  \\\n",
       "1                      570                      839                      967   \n",
       "2                      327                      614                      867   \n",
       "3                       73                      242                      494   \n",
       "4                        0                        0                       48   \n",
       "5                        0                        0                        0   \n",
       "\n",
       "   MLY-TMIN-PRBOCC-LSTH032  MLY-TMIN-PRBOCC-LSTH036  MLY-TMIN-STDDEV  MONTH  \\\n",
       "1                      997                     1000              2.9    Jan   \n",
       "2                      973                      999              3.2    Feb   \n",
       "3                      761                      928              3.6    Mar   \n",
       "4                      189                      453              4.1    Apr   \n",
       "5                        0                        0              2.5    May   \n",
       "\n",
       "                                            NAME      STATION  \n",
       "1  AUSTIN BERGSTROM INTERNATIONAL AIRPORT, TX US  USW00013904  \n",
       "2  AUSTIN BERGSTROM INTERNATIONAL AIRPORT, TX US  USW00013904  \n",
       "3  AUSTIN BERGSTROM INTERNATIONAL AIRPORT, TX US  USW00013904  \n",
       "4  AUSTIN BERGSTROM INTERNATIONAL AIRPORT, TX US  USW00013904  \n",
       "5  AUSTIN BERGSTROM INTERNATIONAL AIRPORT, TX US  USW00013904  \n",
       "\n",
       "[5 rows x 67 columns]"
      ]
     },
     "execution_count": 33,
     "metadata": {},
     "output_type": "execute_result"
    }
   ],
   "source": [
    "austin_weather=pd.read_csv(\"austin_weather_plots.csv\",index_col=0)\n",
    "austin_weather.head()"
   ]
  },
  {
   "cell_type": "code",
   "execution_count": 38,
   "metadata": {},
   "outputs": [
    {
     "data": {
      "image/png": "[encoded data removed]",
      "text/plain": [
       "<Figure size 432x288 with 1 Axes>"
      ]
     },
     "metadata": {
      "needs_background": "light"
     },
     "output_type": "display_data"
    }
   ],
   "source": [
    "fig,ax=plt.subplots()\n",
    "ax.errorbar(seattle_weather[\"MONTH\"],\n",
    "            seattle_weather[\"MLY-TAVG-NORMAL\"],\n",
    "            yerr=seattle_weather[\"MLY-TAVG-STDDEV\"])\n",
    "ax.errorbar(austin_weather[\"MONTH\"],\n",
    "            austin_weather[\"MLY-TAVG-NORMAL\"],\n",
    "            yerr=austin_weather[\"MLY-TAVG-STDDEV\"])\n",
    "ax.set_ylabel(\"Temprature (Fahrenhiet)\")\n",
    "plt.show()"
   ]
  },
  {
   "cell_type": "markdown",
   "metadata": {},
   "source": [
    "# Creating boxplots\n"
   ]
  },
  {
   "cell_type": "code",
   "execution_count": 41,
   "metadata": {},
   "outputs": [
    {
     "name": "stderr",
     "output_type": "stream",
     "text": [
      "C:\\Users\\SMIT SHAH\\Anaconda3\\lib\\site-packages\\numpy\\core\\_asarray.py:83: VisibleDeprecationWarning: Creating an ndarray from ragged nested sequences (which is a list-or-tuple of lists-or-tuples-or ndarrays with different lengths or shapes) is deprecated. If you meant to do this, you must specify 'dtype=object' when creating the ndarray\n",
      "  return array(a, dtype, copy=False, order=order)\n"
     ]
    },
    {
     "data": {
      "image/png": "[encoded data removed]",
      "text/plain": [
       "<Figure size 432x288 with 1 Axes>"
      ]
     },
     "metadata": {
      "needs_background": "light"
     },
     "output_type": "display_data"
    }
   ],
   "source": [
    "fig,ax=plt.subplots()\n",
    "ax.boxplot([mens_rowing[\"Height\"],mens_gymnastics[\"Height\"]])\n",
    "plt.show()"
   ]
  },
  {
   "cell_type": "code",
   "execution_count": null,
   "metadata": {},
   "outputs": [],
   "source": []
  },
  {
   "cell_type": "markdown",
   "metadata": {},
   "source": [
    "# Simple scatter plot\n"
   ]
  },
  {
   "cell_type": "code",
   "execution_count": 42,
   "metadata": {},
   "outputs": [
    {
     "data": {
      "text/html": [
       "<div>\n",
       "<style scoped>\n",
       "    .dataframe tbody tr th:only-of-type {\n",
       "        vertical-align: middle;\n",
       "    }\n",
       "\n",
       "    .dataframe tbody tr th {\n",
       "        vertical-align: top;\n",
       "    }\n",
       "\n",
       "    .dataframe thead th {\n",
       "        text-align: right;\n",
       "    }\n",
       "</style>\n",
       "<table border=\"1\" class=\"dataframe\">\n",
       "  <thead>\n",
       "    <tr style=\"text-align: right;\">\n",
       "      <th></th>\n",
       "      <th>co2</th>\n",
       "      <th>relative_temp</th>\n",
       "    </tr>\n",
       "    <tr>\n",
       "      <th>date</th>\n",
       "      <th></th>\n",
       "      <th></th>\n",
       "    </tr>\n",
       "  </thead>\n",
       "  <tbody>\n",
       "    <tr>\n",
       "      <th>1958-03-06</th>\n",
       "      <td>315.71</td>\n",
       "      <td>0.10</td>\n",
       "    </tr>\n",
       "    <tr>\n",
       "      <th>1958-04-06</th>\n",
       "      <td>317.45</td>\n",
       "      <td>0.01</td>\n",
       "    </tr>\n",
       "    <tr>\n",
       "      <th>1958-05-06</th>\n",
       "      <td>317.50</td>\n",
       "      <td>0.08</td>\n",
       "    </tr>\n",
       "    <tr>\n",
       "      <th>1958-06-06</th>\n",
       "      <td>NaN</td>\n",
       "      <td>-0.05</td>\n",
       "    </tr>\n",
       "    <tr>\n",
       "      <th>1958-07-06</th>\n",
       "      <td>315.86</td>\n",
       "      <td>0.06</td>\n",
       "    </tr>\n",
       "  </tbody>\n",
       "</table>\n",
       "</div>"
      ],
      "text/plain": [
       "               co2  relative_temp\n",
       "date                             \n",
       "1958-03-06  315.71           0.10\n",
       "1958-04-06  317.45           0.01\n",
       "1958-05-06  317.50           0.08\n",
       "1958-06-06     NaN          -0.05\n",
       "1958-07-06  315.86           0.06"
      ]
     },
     "execution_count": 42,
     "metadata": {},
     "output_type": "execute_result"
    }
   ],
   "source": [
    "climate_change=pd.read_csv(\"climate_change.csv\",index_col=0)\n",
    "climate_change.index = pd.to_datetime(climate_change.index)\n",
    "climate_change.head()"
   ]
  },
  {
   "cell_type": "code",
   "execution_count": 86,
   "metadata": {},
   "outputs": [
    {
     "data": {
      "image/png": "[encoded data removed]",
      "text/plain": [
       "<Figure size 640x480 with 1 Axes>"
      ]
     },
     "metadata": {},
     "output_type": "display_data"
    }
   ],
   "source": [
    "fig,ax=plt.subplots()\n",
    "ax.scatter(climate_change[\"co2\"],climate_change[\"relative_temp\"],color=\"red\")\n",
    "ax.set_xlabel(\"CO2 (ppm)\")\n",
    "ax.set_ylabel(\"Relative Temperature (C)\")\n",
    "plt.show()"
   ]
  },
  {
   "cell_type": "markdown",
   "metadata": {},
   "source": [
    "# Encoding time by color\n"
   ]
  },
  {
   "cell_type": "code",
   "execution_count": 44,
   "metadata": {},
   "outputs": [
    {
     "data": {
      "image/png": "[encoded data removed]",
      "text/plain": [
       "<Figure size 432x288 with 1 Axes>"
      ]
     },
     "metadata": {
      "needs_background": "light"
     },
     "output_type": "display_data"
    }
   ],
   "source": [
    "fig,ax=plt.subplots()\n",
    "ax.scatter(climate_change[\"co2\"],climate_change[\"relative_temp\"],\n",
    "           c=climate_change.index)\n",
    "ax.set_xlabel(\"CO2 (ppm)\")\n",
    "ax.set_ylabel(\"Relative Temperature (C)\")\n",
    "plt.show()"
   ]
  },
  {
   "cell_type": "markdown",
   "metadata": {},
   "source": [
    "# Switching between styles\n"
   ]
  },
  {
   "cell_type": "code",
   "execution_count": 56,
   "metadata": {},
   "outputs": [
    {
     "data": {
      "image/png": "[encoded data removed]",
      "text/plain": [
       "<Figure size 432x288 with 1 Axes>"
      ]
     },
     "metadata": {},
     "output_type": "display_data"
    }
   ],
   "source": [
    "plt.style.use(\"ggplot\")\n",
    "fig,ax=plt.subplots()\n",
    "ax.plot(seattle_weather[\"MONTH\"],seattle_weather[\"MLY-TAVG-NORMAL\"])\n",
    "plt.show()"
   ]
  },
  {
   "cell_type": "code",
   "execution_count": 57,
   "metadata": {},
   "outputs": [
    {
     "data": {
      "image/png": "[encoded data removed]",
      "text/plain": [
       "<Figure size 432x288 with 1 Axes>"
      ]
     },
     "metadata": {},
     "output_type": "display_data"
    }
   ],
   "source": [
    "plt.style.use(\"Solarize_Light2\")\n",
    "fig,ax=plt.subplots()\n",
    "ax.plot(seattle_weather[\"MONTH\"],seattle_weather[\"MLY-TAVG-NORMAL\"])\n",
    "plt.show()"
   ]
  },
  {
   "cell_type": "markdown",
   "metadata": {},
   "source": [
    "# Saving a file several times\n"
   ]
  },
  {
   "cell_type": "code",
   "execution_count": 61,
   "metadata": {},
   "outputs": [
    {
     "data": {
      "image/png": "[encoded data removed]",
      "text/plain": [
       "<Figure size 640x480 with 1 Axes>"
      ]
     },
     "metadata": {},
     "output_type": "display_data"
    }
   ],
   "source": [
    "plt.style.use(\"default\")\n",
    "fig, ax = plt.subplots()\n",
    "\n",
    "# Plot a bar-chart of gold medals as a function of country\n",
    "ax.bar(medals.index, medals[\"Gold\"])\n",
    "\n",
    "# Set the x-axis tick labels to the country names\n",
    "ax.set_xticklabels(medals.index, rotation=90)\n",
    "\n",
    "# Set the y-axis label\n",
    "ax.set_ylabel(\"Number of medals\")\n",
    "fig.savefig(\"lecture_figure.png\")\n",
    "plt.show()"
   ]
  },
  {
   "cell_type": "code",
   "execution_count": 62,
   "metadata": {},
   "outputs": [
    {
     "data": {
      "image/png": "[encoded data removed]",
      "text/plain": [
       "<Figure size 300x500 with 1 Axes>"
      ]
     },
     "metadata": {},
     "output_type": "display_data"
    }
   ],
   "source": [
    "plt.style.use(\"default\")\n",
    "fig, ax = plt.subplots()\n",
    "\n",
    "# Plot a bar-chart of gold medals as a function of country\n",
    "ax.bar(medals.index, medals[\"Gold\"])\n",
    "\n",
    "# Set the x-axis tick labels to the country names\n",
    "ax.set_xticklabels(medals.index, rotation=90)\n",
    "\n",
    "# Set the y-axis label\n",
    "ax.set_ylabel(\"Number of medals\")\n",
    "fig.set_size_inches([3,5])\n",
    "fig.savefig(\"lecture_figure_3_5.png\")\n",
    "plt.show()"
   ]
  },
  {
   "cell_type": "code",
   "execution_count": null,
   "metadata": {},
   "outputs": [],
   "source": []
  },
  {
   "cell_type": "code",
   "execution_count": null,
   "metadata": {},
   "outputs": [],
   "source": []
  },
  {
   "cell_type": "code",
   "execution_count": null,
   "metadata": {},
   "outputs": [],
   "source": []
  },
  {
   "cell_type": "markdown",
   "metadata": {},
   "source": [
    "# Unique values of a column\n"
   ]
  },
  {
   "cell_type": "code",
   "execution_count": 63,
   "metadata": {},
   "outputs": [
    {
     "data": {
      "text/html": [
       "<div>\n",
       "<style scoped>\n",
       "    .dataframe tbody tr th:only-of-type {\n",
       "        vertical-align: middle;\n",
       "    }\n",
       "\n",
       "    .dataframe tbody tr th {\n",
       "        vertical-align: top;\n",
       "    }\n",
       "\n",
       "    .dataframe thead th {\n",
       "        text-align: right;\n",
       "    }\n",
       "</style>\n",
       "<table border=\"1\" class=\"dataframe\">\n",
       "  <thead>\n",
       "    <tr style=\"text-align: right;\">\n",
       "      <th></th>\n",
       "      <th>Age</th>\n",
       "      <th>City</th>\n",
       "      <th>Event</th>\n",
       "      <th>Games</th>\n",
       "      <th>Height</th>\n",
       "      <th>Medal</th>\n",
       "      <th>NOC</th>\n",
       "      <th>Name</th>\n",
       "      <th>Season</th>\n",
       "      <th>Sex</th>\n",
       "      <th>Sport</th>\n",
       "      <th>Team</th>\n",
       "      <th>Unnamed: 0.1</th>\n",
       "      <th>Weight</th>\n",
       "      <th>Year</th>\n",
       "    </tr>\n",
       "  </thead>\n",
       "  <tbody>\n",
       "    <tr>\n",
       "      <th>62</th>\n",
       "      <td>21.0</td>\n",
       "      <td>Rio de Janeiro</td>\n",
       "      <td>Rowing Men's Coxless Pairs</td>\n",
       "      <td>2016 Summer</td>\n",
       "      <td>198.0</td>\n",
       "      <td>Bronze</td>\n",
       "      <td>ITA</td>\n",
       "      <td>Giovanni Abagnale</td>\n",
       "      <td>Summer</td>\n",
       "      <td>M</td>\n",
       "      <td>Rowing</td>\n",
       "      <td>Italy</td>\n",
       "      <td>158</td>\n",
       "      <td>90.0</td>\n",
       "      <td>2016</td>\n",
       "    </tr>\n",
       "    <tr>\n",
       "      <th>65</th>\n",
       "      <td>21.0</td>\n",
       "      <td>Rio de Janeiro</td>\n",
       "      <td>Taekwondo Women's Flyweight</td>\n",
       "      <td>2016 Summer</td>\n",
       "      <td>165.0</td>\n",
       "      <td>Bronze</td>\n",
       "      <td>AZE</td>\n",
       "      <td>Patimat Abakarova</td>\n",
       "      <td>Summer</td>\n",
       "      <td>F</td>\n",
       "      <td>Taekwondo</td>\n",
       "      <td>Azerbaijan</td>\n",
       "      <td>161</td>\n",
       "      <td>49.0</td>\n",
       "      <td>2016</td>\n",
       "    </tr>\n",
       "    <tr>\n",
       "      <th>73</th>\n",
       "      <td>31.0</td>\n",
       "      <td>Rio de Janeiro</td>\n",
       "      <td>Handball Men's Handball</td>\n",
       "      <td>2016 Summer</td>\n",
       "      <td>182.0</td>\n",
       "      <td>Silver</td>\n",
       "      <td>FRA</td>\n",
       "      <td>Luc Abalo</td>\n",
       "      <td>Summer</td>\n",
       "      <td>M</td>\n",
       "      <td>Handball</td>\n",
       "      <td>France</td>\n",
       "      <td>175</td>\n",
       "      <td>86.0</td>\n",
       "      <td>2016</td>\n",
       "    </tr>\n",
       "    <tr>\n",
       "      <th>250</th>\n",
       "      <td>26.0</td>\n",
       "      <td>Rio de Janeiro</td>\n",
       "      <td>Wrestling Men's Middleweight, Greco-Roman</td>\n",
       "      <td>2016 Summer</td>\n",
       "      <td>170.0</td>\n",
       "      <td>Bronze</td>\n",
       "      <td>IRI</td>\n",
       "      <td>Saeid Morad Abdevali</td>\n",
       "      <td>Summer</td>\n",
       "      <td>M</td>\n",
       "      <td>Wrestling</td>\n",
       "      <td>Iran</td>\n",
       "      <td>450</td>\n",
       "      <td>80.0</td>\n",
       "      <td>2016</td>\n",
       "    </tr>\n",
       "    <tr>\n",
       "      <th>455</th>\n",
       "      <td>24.0</td>\n",
       "      <td>Rio de Janeiro</td>\n",
       "      <td>Gymnastics Men's Rings</td>\n",
       "      <td>2016 Summer</td>\n",
       "      <td>161.0</td>\n",
       "      <td>Bronze</td>\n",
       "      <td>RUS</td>\n",
       "      <td>Denis Mikhaylovich Ablyazin</td>\n",
       "      <td>Summer</td>\n",
       "      <td>M</td>\n",
       "      <td>Gymnastics</td>\n",
       "      <td>Russia</td>\n",
       "      <td>797</td>\n",
       "      <td>62.0</td>\n",
       "      <td>2016</td>\n",
       "    </tr>\n",
       "  </tbody>\n",
       "</table>\n",
       "</div>"
      ],
      "text/plain": [
       "      Age            City                                      Event  \\\n",
       "62   21.0  Rio de Janeiro                 Rowing Men's Coxless Pairs   \n",
       "65   21.0  Rio de Janeiro                Taekwondo Women's Flyweight   \n",
       "73   31.0  Rio de Janeiro                    Handball Men's Handball   \n",
       "250  26.0  Rio de Janeiro  Wrestling Men's Middleweight, Greco-Roman   \n",
       "455  24.0  Rio de Janeiro                     Gymnastics Men's Rings   \n",
       "\n",
       "           Games  Height   Medal  NOC                         Name  Season  \\\n",
       "62   2016 Summer   198.0  Bronze  ITA            Giovanni Abagnale  Summer   \n",
       "65   2016 Summer   165.0  Bronze  AZE            Patimat Abakarova  Summer   \n",
       "73   2016 Summer   182.0  Silver  FRA                    Luc Abalo  Summer   \n",
       "250  2016 Summer   170.0  Bronze  IRI         Saeid Morad Abdevali  Summer   \n",
       "455  2016 Summer   161.0  Bronze  RUS  Denis Mikhaylovich Ablyazin  Summer   \n",
       "\n",
       "    Sex       Sport        Team  Unnamed: 0.1  Weight  Year  \n",
       "62    M      Rowing       Italy           158    90.0  2016  \n",
       "65    F   Taekwondo  Azerbaijan           161    49.0  2016  \n",
       "73    M    Handball      France           175    86.0  2016  \n",
       "250   M   Wrestling        Iran           450    80.0  2016  \n",
       "455   M  Gymnastics      Russia           797    62.0  2016  "
      ]
     },
     "execution_count": 63,
     "metadata": {},
     "output_type": "execute_result"
    }
   ],
   "source": [
    "summer_2016_medals=pd.read_csv(\"summer_2016_medals.csv\",index_col=0)\n",
    "summer_2016_medals.head()"
   ]
  },
  {
   "cell_type": "code",
   "execution_count": 64,
   "metadata": {},
   "outputs": [],
   "source": [
    "sports_column=summer_2016_medals[\"Sport\"]"
   ]
  },
  {
   "cell_type": "code",
   "execution_count": 65,
   "metadata": {},
   "outputs": [
    {
     "data": {
      "text/plain": [
       "pandas.core.series.Series"
      ]
     },
     "execution_count": 65,
     "metadata": {},
     "output_type": "execute_result"
    }
   ],
   "source": [
    "type(sports_column)"
   ]
  },
  {
   "cell_type": "code",
   "execution_count": 68,
   "metadata": {},
   "outputs": [
    {
     "data": {
      "text/plain": [
       "62            Rowing\n",
       "65         Taekwondo\n",
       "73          Handball\n",
       "250        Wrestling\n",
       "455       Gymnastics\n",
       "465         Swimming\n",
       "576       Basketball\n",
       "608        Taekwondo\n",
       "690           Rowing\n",
       "832           Boxing\n",
       "837       Volleyball\n",
       "846        Athletics\n",
       "1017        Swimming\n",
       "1561       Athletics\n",
       "1634       Wrestling\n",
       "1647          Boxing\n",
       "1682       Athletics\n",
       "1683      Volleyball\n",
       "2497       Wrestling\n",
       "2610       Taekwondo\n",
       "2695       Athletics\n",
       "2769       Taekwondo\n",
       "3077        Handball\n",
       "3174          Boxing\n",
       "3537       Wrestling\n",
       "3691          Rowing\n",
       "3845      Volleyball\n",
       "4505      Basketball\n",
       "4575      Volleyball\n",
       "4782       Athletics\n",
       "             ...    \n",
       "132276     Athletics\n",
       "132340    Gymnastics\n",
       "132415    Volleyball\n",
       "132485    Volleyball\n",
       "132603     Wrestling\n",
       "132665     Wrestling\n",
       "132729     Wrestling\n",
       "132765      Swimming\n",
       "132776     Athletics\n",
       "132813        Boxing\n",
       "132899      Handball\n",
       "132989        Boxing\n",
       "133031        Boxing\n",
       "133130     Wrestling\n",
       "133174    Gymnastics\n",
       "133402    Volleyball\n",
       "133577      Handball\n",
       "133931    Gymnastics\n",
       "134145    Volleyball\n",
       "134431    Volleyball\n",
       "134433    Gymnastics\n",
       "134448     Wrestling\n",
       "134559     Athletics\n",
       "134663     Taekwondo\n",
       "134740     Taekwondo\n",
       "134759      Handball\n",
       "134776     Wrestling\n",
       "134857    Volleyball\n",
       "135132    Volleyball\n",
       "135205        Boxing\n",
       "Name: Sport, Length: 872, dtype: object"
      ]
     },
     "execution_count": 68,
     "metadata": {},
     "output_type": "execute_result"
    }
   ],
   "source": [
    "sports_column"
   ]
  },
  {
   "cell_type": "code",
   "execution_count": 69,
   "metadata": {},
   "outputs": [],
   "source": [
    "sports=sports_column.unique()"
   ]
  },
  {
   "cell_type": "code",
   "execution_count": 70,
   "metadata": {},
   "outputs": [
    {
     "name": "stdout",
     "output_type": "stream",
     "text": [
      "['Rowing' 'Taekwondo' 'Handball' 'Wrestling' 'Gymnastics' 'Swimming'\n",
      " 'Basketball' 'Boxing' 'Volleyball' 'Athletics']\n"
     ]
    }
   ],
   "source": [
    "print(sports)"
   ]
  },
  {
   "cell_type": "code",
   "execution_count": null,
   "metadata": {},
   "outputs": [],
   "source": []
  },
  {
   "cell_type": "markdown",
   "metadata": {},
   "source": [
    "# Automate your visualization\n"
   ]
  },
  {
   "cell_type": "code",
   "execution_count": 83,
   "metadata": {},
   "outputs": [
    {
     "data": {
      "image/png": "[encoded data removed]",
      "text/plain": [
       "<Figure size 640x480 with 1 Axes>"
      ]
     },
     "metadata": {},
     "output_type": "display_data"
    }
   ],
   "source": [
    "fig,ax=plt.subplots()\n",
    "for sport in sports:\n",
    "    sports_df=summer_2016_medals[summer_2016_medals[\"Sport\"]==sport]\n",
    "    ax.bar(sport,sports_df[\"Weight\"].mean(),yerr=sports_df[\"Weight\"].std())\n",
    "\n",
    "ax.set_ylabel(\"Weight\")\n",
    "ax.set_xticklabels(sports,rotation=90)\n",
    "fig.savefig(\"lecture_sports_weight.png\")\n",
    "plt.show()"
   ]
  },
  {
   "cell_type": "code",
   "execution_count": null,
   "metadata": {},
   "outputs": [],
   "source": [
    "\n"
   ]
  }
 ],
 "metadata": {
  "kernelspec": {
   "display_name": "Python 3",
   "language": "python",
   "name": "python3"
  },
  "language_info": {
   "codemirror_mode": {
    "name": "ipython",
    "version": 3
   },
   "file_extension": ".py",
   "mimetype": "text/x-python",
   "name": "python",
   "nbconvert_exporter": "python",
   "pygments_lexer": "ipython3",
   "version": "3.7.1"
  }
 },
 "nbformat": 4,
 "nbformat_minor": 2
}
